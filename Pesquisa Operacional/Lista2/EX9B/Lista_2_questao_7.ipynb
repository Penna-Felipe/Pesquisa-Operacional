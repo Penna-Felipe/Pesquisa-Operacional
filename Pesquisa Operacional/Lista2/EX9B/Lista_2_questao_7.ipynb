{
  "cells": [
    {
      "cell_type": "code",
      "execution_count": 5,
      "metadata": {
        "colab": {
          "base_uri": "https://localhost:8080/"
        },
        "id": "0KNDLmI6NlW7",
        "outputId": "2ecaedad-11ef-4461-8a27-07422c1d19ec"
      },
      "outputs": [
        {
          "name": "stdout",
          "output_type": "stream",
          "text": [
            "Looking in indexes: https://pypi.org/simple, https://us-python.pkg.dev/colab-wheels/public/simple/\n",
            "Requirement already satisfied: pulp in /usr/local/lib/python3.7/dist-packages (2.6.0)\n",
            "x = {1: 2.8, 2: 3.2, 3: 12.8, 4: 0.0, 5: 0.0}\n"
          ]
        },
        {
          "name": "stderr",
          "output_type": "stream",
          "text": [
            "/usr/local/lib/python3.7/dist-packages/ipykernel_launcher.py:8: DeprecationWarning: 'indexs' is deprecated; use 'indices'.\n",
            "  \n"
          ]
        }
      ],
      "source": [
        "!pip install pulp\n",
        "import pulp\n",
        "\n",
        "# Definir o modelo\n",
        "model = pulp.LpProblem('Lista_2-questao_7', sense=pulp.LpMinimize)\n",
        "\n",
        "# Adicionar as variáveis\n",
        "x = pulp.LpVariable.dicts(indexs=[1, 2, 3, 4, 5], cat=pulp.LpContinuous, lowBound=0, name='x')\n",
        "\n",
        "# Adicionar as Restruições\n",
        "model.addConstraint(8*x[1] + 2*x[2] - x[3] == 16, name='restricao_1')\n",
        "model.addConstraint(1*x[1] + 1*x[2] - x[4] == 6, name='restricao_2')\n",
        "model.addConstraint(2*x[1] + 7*x[2] - x[5] == 28, name='restricao_3')\n",
        "\n",
        "# Função Objetivo\n",
        "model.setObjective(1000 * x[1] + 2000 * x[2])\n",
        "\n",
        "# Optimizar\n",
        "model.solve()\n",
        "\n",
        "# Obter e imprimir a solução\n",
        "x_sol = {i: x[i].value() for i in [1, 2, 3, 4, 5]}\n",
        "print(f'x = {x_sol}')"
      ]
    },
    {
      "cell_type": "code",
      "execution_count": null,
      "metadata": {
        "id": "sFLFj_utU--p"
      },
      "outputs": [],
      "source": []
    }
  ],
  "metadata": {
    "colab": {
      "collapsed_sections": [],
      "provenance": []
    },
    "kernelspec": {
      "display_name": "Python 3",
      "name": "python3"
    }
  },
  "nbformat": 4,
  "nbformat_minor": 0
}
